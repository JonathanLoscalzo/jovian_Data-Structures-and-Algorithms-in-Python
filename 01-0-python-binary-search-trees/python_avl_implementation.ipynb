{
 "cells": [
  {
   "cell_type": "code",
   "execution_count": 175,
   "metadata": {},
   "outputs": [],
   "source": [
    "  \n",
    "def height(node: Node):\n",
    "    if node is None: \n",
    "        return 0\n",
    "    \n",
    "    return 1 + max(height(node.left), height(node.right))\n",
    "    \n",
    "def is_balanced(node):\n",
    "    \"\"\"if it is avl\"\"\"\n",
    "    \n",
    "    if node is None : return True, 0\n",
    "\n",
    "    lheight = height(node.left)\n",
    "    rheight = height(node.right)\n",
    "    rbalanced = is_balanced(node.right)\n",
    "    lbalanced = is_balanced(node.left)\n",
    "    balanced = lbalanced and rbalanced and abs(node.balance_factor()) <= 1\n",
    "\n",
    "    return balanced, 1 + max(lheight, rheight)\n",
    "\n",
    "\n",
    "def insert(node, key, value):\n",
    "    if node is None:\n",
    "        node = Node(key, value)\n",
    "    elif key < node.key:\n",
    "        node.left = insert(node.left, key, value)\n",
    "    elif key > node.key:\n",
    "        node.right = insert(node.right, key, value)\n",
    "    return node\n",
    "\n",
    "\n",
    "def insert_balance(node:Node, key, value):\n",
    "    if node is None:\n",
    "        node = Node(key, value)\n",
    "    elif key < node.key:\n",
    "        node.left = insert_balance(node.left, key, value)\n",
    "    elif key > node.key:\n",
    "        node.right = insert_balance(node.right, key, value)\n",
    "    \n",
    "    bf = node.balance_factor()\n",
    "    # https://www.javatpoint.com/avl-tree\n",
    "    # is unbalance\n",
    "    \n",
    "    if abs(bf) > 1:\n",
    "        print(node.key, bf, key)\n",
    "        \n",
    "        # left is imbalance\n",
    "        if bf > 1:\n",
    "            # if inserted node is inserted on left left node\n",
    "            if (node.left.left is not None and node.left.left.key == key):\n",
    "                return LL(node)\n",
    "            \n",
    "            if (node.left.right is not None and node.left.right.key == key):\n",
    "                return LR(node)          \n",
    "        \n",
    "        # right is imbalance\n",
    "        if bf < 1:\n",
    "            if (node.right.right is not None and node.right.right.key == key):\n",
    "                return RR(node)\n",
    "            \n",
    "            if (node.right.left is not None and node.right.left.key == key):\n",
    "                return RL(node)\n",
    "        \n",
    "    \n",
    "    return node\n",
    "\n",
    "# rotations\n",
    "def LL(node):\n",
    "    print(f\"LL on {node.key}\")\n",
    "    a = node.left\n",
    "    node.left = a.right\n",
    "    a.right = node\n",
    "    return a\n",
    "\n",
    "def RR(node):\n",
    "    print(f\"RR on {node.key}\")\n",
    "    a = node.right\n",
    "    node.right = a.left\n",
    "    a.left = node\n",
    "    return a\n",
    "\n",
    "def LR(node):\n",
    "    print(f\"LR on {node.key}\")\n",
    "    node.left = RR(node.left)\n",
    "    b = LL(node)\n",
    "    return b\n",
    "    \n",
    "def RL(node):\n",
    "    print(f\"RL on {node.key}\")\n",
    "    node.right = LL(node.right)\n",
    "    b = RR(node)\n",
    "    return b"
   ]
  },
  {
   "cell_type": "code",
   "execution_count": 176,
   "metadata": {},
   "outputs": [],
   "source": [
    "# AVL\n",
    "class Node:\n",
    "    key: int = None\n",
    "    value = None\n",
    "    left = None\n",
    "    right = None\n",
    "    \n",
    "    def __init__(self, key, value=None, left=None, right=None):\n",
    "        self.key = key \n",
    "        self.value = value\n",
    "        self.left = left\n",
    "        self.right = right\n",
    "    \n",
    "    def __str__(self):\n",
    "        return f\"{self.key}\"\n",
    "    \n",
    "    def balance_factor(self, node=None):\n",
    "        if node is not None: return  height(node.left) - height(node.right)\n",
    "        else: return height(self.left)  - height(self.right)\n",
    "    \n",
    "    def balance(self):\n",
    "        bf = self.balance_factor()\n",
    "        if bf < -1: return \"right-heavy\"\n",
    "        elif bf > 1: return \"left-heavy\"\n",
    "        else: return \"balance\""
   ]
  },
  {
   "cell_type": "code",
   "execution_count": 177,
   "metadata": {},
   "outputs": [],
   "source": [
    "        \n",
    "def display_keys(self, space='\\t', level=0):\n",
    "    # If the node is empty\n",
    "    if self is None:\n",
    "        print(space*level + '∅')\n",
    "        return   \n",
    "\n",
    "    # If the node is a leaf \n",
    "    if self.left is None and self.right is None:\n",
    "        print(space*level + str(self.key))\n",
    "        return\n",
    "\n",
    "    # If the node has children\n",
    "    display_keys(self.right, space, level+1)\n",
    "    print(space*level + str(self.key))\n",
    "    display_keys(self.left,space, level+1)  "
   ]
  },
  {
   "cell_type": "code",
   "execution_count": 180,
   "metadata": {},
   "outputs": [],
   "source": [
    "# node0 = Node(key=3, value=3, left=None, right = None)\n",
    "\n",
    "# insert(node0, key=4, value=4,)\n",
    "# insert(node0, key=2, value=2)\n",
    "# insert(node0, key=5, value=5)\n",
    "# insert(node0, key=1, value=1)\n",
    "# insert(node0, key=-1, value=-1)\n",
    "# insert(node0, key=-2, value=-2)"
   ]
  },
  {
   "cell_type": "code",
   "execution_count": 194,
   "metadata": {},
   "outputs": [
    {
     "name": "stdout",
     "output_type": "stream",
     "text": [
      "3 2 1\n",
      "LL on 3\n",
      "\t3\n",
      "2\n",
      "\t1\n"
     ]
    }
   ],
   "source": [
    "#LL\n",
    "tree = Node(key=3, value=3, left=None, right = None)\n",
    "tree = insert_balance(tree, key=2, value=2)\n",
    "tree = insert_balance(tree, key=1, value=1)\n",
    "display_keys(tree)"
   ]
  },
  {
   "cell_type": "code",
   "execution_count": 195,
   "metadata": {},
   "outputs": [
    {
     "name": "stdout",
     "output_type": "stream",
     "text": [
      "-1 -2 2\n",
      "RR on -1\n",
      "\t\t5\n",
      "\t4\n",
      "\t\t∅\n",
      "3\n",
      "\t\t2\n",
      "\t1\n",
      "\t\t-1\n",
      "3 -2 5\n",
      "RR on 3\n",
      "\t5\n",
      "4\n",
      "\t3\n"
     ]
    }
   ],
   "source": [
    "#RR\n",
    "node0 = Node(key=3, value=3, left=None, right = None)\n",
    "node0 = insert_balance(node0, key=4, value=4,)\n",
    "node0 = insert_balance(node0, key=-1, value=-1)\n",
    "node0 = insert_balance(node0, key=5, value=5)\n",
    "node0 = insert_balance(node0, key=1, value=1)\n",
    "node0 = insert_balance(node0, key=2, value=2)\n",
    "display_keys(node0)\n",
    "\n",
    "node0 = Node(key=3, value=3, left=None, right = None)\n",
    "node0 = insert_balance(node0, key=4, value=4,)\n",
    "node0 = insert_balance(node0, key=5, value=5)\n",
    "display_keys(node0)"
   ]
  },
  {
   "cell_type": "code",
   "execution_count": 196,
   "metadata": {},
   "outputs": [
    {
     "name": "stdout",
     "output_type": "stream",
     "text": [
      "2 2 1\n",
      "LR on 2\n",
      "RR on -1\n",
      "LL on 2\n",
      "\t\t5\n",
      "\t4\n",
      "\t\t∅\n",
      "3\n",
      "\t\t2\n",
      "\t1\n",
      "\t\t-1\n"
     ]
    }
   ],
   "source": [
    "#LR\n",
    "node0 = Node(key=3, value=3, left=None, right = None)\n",
    "node0 = insert_balance(node0, key=4, value=4,)\n",
    "node0 = insert_balance(node0, key=2, value=2)\n",
    "node0 = insert_balance(node0, key=5, value=5)\n",
    "node0 = insert_balance(node0, key=-1, value=-1)\n",
    "node0 = insert_balance(node0, key=1, value=1)\n",
    "display_keys(node0)"
   ]
  },
  {
   "cell_type": "code",
   "execution_count": 197,
   "metadata": {},
   "outputs": [
    {
     "name": "stdout",
     "output_type": "stream",
     "text": [
      "4 -2 4.5\n",
      "RL on 4\n",
      "LL on 5\n",
      "RR on 4\n",
      "\t\t5\n",
      "\t4.5\n",
      "\t\t4\n",
      "3\n",
      "\t\t2.5\n",
      "\t2\n",
      "\t\t1\n"
     ]
    }
   ],
   "source": [
    "# RL\n",
    "node0 = Node(key=3, value=3, left=None, right = None)\n",
    "node0 = insert_balance(node0, key=4, value=4,)\n",
    "node0 = insert_balance(node0, key=2, value=2)\n",
    "node0 = insert_balance(node0, key=5, value=5)\n",
    "node0 = insert_balance(node0, key=1, value=1)\n",
    "node0 = insert_balance(node0, key=2.5, value=3)\n",
    "node0 = insert_balance(node0, key=4.5, value=4.5)\n",
    "display_keys(node0)"
   ]
  }
 ],
 "metadata": {
  "kernelspec": {
   "display_name": "default_3.7.9",
   "language": "python",
   "name": "default_3.7.9"
  },
  "language_info": {
   "codemirror_mode": {
    "name": "ipython",
    "version": 3
   },
   "file_extension": ".py",
   "mimetype": "text/x-python",
   "name": "python",
   "nbconvert_exporter": "python",
   "pygments_lexer": "ipython3",
   "version": "3.7.9"
  }
 },
 "nbformat": 4,
 "nbformat_minor": 4
}
